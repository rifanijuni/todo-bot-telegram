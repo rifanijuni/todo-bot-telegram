{
  "cells": [
    {
      "cell_type": "markdown",
      "metadata": {
        "id": "view-in-github",
        "colab_type": "text"
      },
      "source": [
        "<a href=\"https://colab.research.google.com/github/rifanijuni/todo-bot-telegram/blob/main/python_project_Rifani.ipynb\" target=\"_parent\"><img src=\"https://colab.research.google.com/assets/colab-badge.svg\" alt=\"Open In Colab\"/></a>"
      ]
    },
    {
      "cell_type": "code",
      "execution_count": null,
      "metadata": {
        "id": "aAHn6PgxnZ5t"
      },
      "outputs": [],
      "source": [
        "!pip install python-telegram-bot==13.15\n",
        "from telegram import Bot, Update, ReplyKeyboardMarkup\n",
        "from telegram.ext import Updater, CommandHandler, MessageHandler, CallbackContext\n",
        "import logging\n"
      ]
    },
    {
      "cell_type": "code",
      "execution_count": null,
      "metadata": {
        "id": "J0dlyBsItRLi"
      },
      "outputs": [],
      "source": [
        "token = '6944148111:AAGZqx6K2nIz9qjZPkrauvjEOv3kdwoV9-M'\n",
        "bot = Bot(token)\n",
        "updater = Updater(token, use_context=True)\n"
      ]
    },
    {
      "cell_type": "code",
      "execution_count": null,
      "metadata": {
        "id": "Fn_TsC08vmlZ"
      },
      "outputs": [],
      "source": [
        "todo_list = []\n"
      ]
    },
    {
      "cell_type": "code",
      "execution_count": null,
      "metadata": {
        "id": "JaJxoa2VvnO5"
      },
      "outputs": [],
      "source": [
        "\n",
        "def start(update: Update, context: CallbackContext) -> None:\n",
        "    keyboard = [['/addtask', '/showtasks'], ['/removetask', '/cleartasks']]\n",
        "    reply_markup = ReplyKeyboardMarkup(keyboard, resize_keyboard=True, one_time_keyboard=True)\n",
        "\n",
        "    update.message.reply_text(\n",
        "        'Halo! Saya adalah bot to-do list Anda. Pilih salah satu opsi di bawah:',\n",
        "        reply_markup=reply_markup\n",
        "    )\n",
        "\n",
        "def add_task(update: Update, context: CallbackContext) -> None:\n",
        "    task = ' '.join(context.args)\n",
        "    if task:\n",
        "        todo_list.append(task)\n",
        "        update.message.reply_text(f'Task \"{task}\" ditambahkan ke to-do list.')\n",
        "    else:\n",
        "        update.message.reply_text('Format: /addtask <nama_task>')\n",
        "\n",
        "def remove_task(update: Update, context: CallbackContext) -> None:\n",
        "    task_index = int(context.args[0]) - 1 if context.args else None\n",
        "\n",
        "    if task_index is not None and 0 <= task_index < len(todo_list):\n",
        "        removed_task = todo_list.pop(task_index)\n",
        "        update.message.reply_text(f'Task \"{removed_task}\" telah dihapus dari to-do list.')\n",
        "    else:\n",
        "        update.message.reply_text('Format: /removetask <nomor_task>')\n",
        "\n",
        "def show_tasks(update: Update, context: CallbackContext) -> None:\n",
        "    if todo_list:\n",
        "        tasks_text = '\\n'.join(f'{index + 1}. {task}' for index, task in enumerate(todo_list))\n",
        "        update.message.reply_text(f'To-do list:\\n{tasks_text}')\n",
        "    else:\n",
        "        update.message.reply_text('To-do list kosong.')\n",
        "\n",
        "def clear_tasks(update: Update, context: CallbackContext) -> None:\n",
        "    global todo_list\n",
        "    todo_list = []\n",
        "    update.message.reply_text('To-do list telah dihapus.')\n",
        "\n",
        "updater.dispatcher.add_handler(CommandHandler('start', start))\n",
        "updater.dispatcher.add_handler(CommandHandler('addtask', add_task, pass_args=True))\n",
        "updater.dispatcher.add_handler(CommandHandler('removetask', remove_task, pass_args=True))\n",
        "updater.dispatcher.add_handler(CommandHandler('showtasks', show_tasks))\n",
        "updater.dispatcher.add_handler(CommandHandler('cleartasks', clear_tasks))"
      ]
    },
    {
      "cell_type": "code",
      "execution_count": null,
      "metadata": {
        "id": "qM3Iktpqvsjh"
      },
      "outputs": [],
      "source": [
        "updater.start_polling()\n",
        "updater.idle()\n"
      ]
    }
  ],
  "metadata": {
    "colab": {
      "provenance": [],
      "authorship_tag": "ABX9TyNV3Jhv8RcxJ0Dj0y4Op42z",
      "include_colab_link": true
    },
    "kernelspec": {
      "display_name": "Python 3",
      "name": "python3"
    },
    "language_info": {
      "name": "python"
    }
  },
  "nbformat": 4,
  "nbformat_minor": 0
}